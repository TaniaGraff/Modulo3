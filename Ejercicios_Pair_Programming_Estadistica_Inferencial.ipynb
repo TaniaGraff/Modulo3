{
 "cells": [
  {
   "cell_type": "markdown",
   "metadata": {},
   "source": [
    "### Ejercicios estadística inferencial\n",
    "\n",
    "1. Igual que en los ejercicios de la clase invertida, evalúa si las siguientes afirmaciones corresponden a una distribución exponencial o poisson.\n",
    "\n",
    "- ¿El tiempo que transcurre entre la llegada de autobuses a una parada sigue una distribución exponencial o de Poisson?\n",
    "\n",
    "- ¿El tiempo que transcurre entre la llegada de solicitudes de servicio en un restaurante sigue una distribución exponencial o de Poisson?\n",
    "\n",
    "- ¿El tiempo que transcurre entre la llegada de taxis en una parada sigue una distribución exponencial o de Poisson?\n",
    "\n",
    "- ¿El número de errores de ortografía en un libro de texto sigue una distribución exponencial o de Poisson?\n",
    "\n"
   ]
  },
  {
   "cell_type": "markdown",
   "metadata": {},
   "source": [
    "a. El **tiempo** que transcurre entre la llegada de autobuses a una parada sigue una **distribución exponencial**.\n",
    "\n",
    "b. El **tiempo** que transcurre entre la llegada de solicitudes de servicio en un restaurante sigue una **distribución exponencial**.\n",
    "\n",
    "c. El **tiempo** que transcurre entre la llegada de taziz a una parada sigue una **distribución exponencial**.\n",
    "\n",
    "d. El **número** de errores de ortografía en un libro de texto sigue una distribución de Poisson."
   ]
  },
  {
   "cell_type": "markdown",
   "metadata": {},
   "source": [
    "2. Ejercicios intervalo de confianza. Al igual que en el caso del ejercicio de la clase invertida, piensa un motivo por el que sería interesante calcular estos intervalos de confianza para la extracción de insights.\n",
    "\n",
    "- Intervalo de Confianza para la Esperanza de Vida\n",
    "\n",
    "- Contexto: Trabajas en una organización de salud global y deseas estimar el intervalo de confianza al 95% para la esperanza de vida promedio de cada continente.\n",
    "\n",
    "- Nota: Cuidado porque puede que os salgan algunos nulos, genera un código para que no salgan nulos en los intervalos de confianza.\n",
    "\n",
    "- Intervalo de Confianza para el PIB\n",
    "\n",
    "- Contexto: Eres una economista y quieres calcular el intervalo de confianza al 90% para el Producto Interno Bruto (PIB) de los continentes."
   ]
  },
  {
   "cell_type": "markdown",
   "metadata": {},
   "source": [
    "**Intervalo de Confianza para la Esperanza de Vida**\n",
    "Conocer la Esperanza de Vida de un continente nos puede ayudar a mejorar las políticas sanitarias de la población de un continente en general y la de cada país en particular, desarrollando estrategias preventivas que ayuden a alargar esta esperanza de vida.\n",
    "\n",
    "Para la gestión de nulos, deberé limpiar previamente los datos de la columna 'lifeexpectancy'. Puedo gestionar los nulos de diferentes maneras en función del volumen de los mismos:\n",
    "    - Puedo eliminarlos -> df.dropna(subset=['life_expectancy'])\n",
    "    - O puedo imputarlos a la media o la mediana -> df['life_expectancy'] = df['life_expectancy'].fillna(df['life_expectancy'].mean()) // df['life_expectancy'] = df['life_expectancy'].fillna(df['life_expectancy'].median()) // *O usar el parámetro nan_policy=\"omit*.\n",
    "\n",
    "\n",
    "**Intervalo de Confianza para el PIB**\n",
    "Conocer el Producto Interior Bruto de cada continente, permite estimar el volumen de riqueza de los mismos, y desarrollar políticas económicas que permitan estimular el crecimiento económico en aquellos paises o regiones donde resulte más necesario."
   ]
  },
  {
   "cell_type": "code",
   "execution_count": 7,
   "metadata": {},
   "outputs": [],
   "source": [
    "#Importo librerías\n",
    "import pandas as pd\n",
    "import numpy as np\n",
    "\n",
    "import matplotlib.pyplot as plt\n",
    "import seaborn as sns\n",
    "\n",
    "import scipy.stats as stats\n",
    "from scipy.stats import shapiro, poisson, chisquare, expon, kstest\n",
    "\n",
    "import warnings\n",
    "warnings.filterwarnings(\"ignore\")\n",
    "\n",
    "#Configuro la visualización.\n",
    "pd.set_option('display.max_columns', None) "
   ]
  },
  {
   "cell_type": "code",
   "execution_count": 8,
   "metadata": {},
   "outputs": [
    {
     "data": {
      "text/html": [
       "<div>\n",
       "<style scoped>\n",
       "    .dataframe tbody tr th:only-of-type {\n",
       "        vertical-align: middle;\n",
       "    }\n",
       "\n",
       "    .dataframe tbody tr th {\n",
       "        vertical-align: top;\n",
       "    }\n",
       "\n",
       "    .dataframe thead th {\n",
       "        text-align: right;\n",
       "    }\n",
       "</style>\n",
       "<table border=\"1\" class=\"dataframe\">\n",
       "  <thead>\n",
       "    <tr style=\"text-align: right;\">\n",
       "      <th></th>\n",
       "      <th>country</th>\n",
       "      <th>density</th>\n",
       "      <th>abbreviation</th>\n",
       "      <th>capitalmajorcity</th>\n",
       "      <th>currencycode</th>\n",
       "      <th>largestcity</th>\n",
       "      <th>officiallanguage</th>\n",
       "      <th>longitude</th>\n",
       "      <th>latitude</th>\n",
       "      <th>continent</th>\n",
       "      <th>urbanpopulation</th>\n",
       "      <th>unemploymentrate</th>\n",
       "      <th>totaltaxrate</th>\n",
       "      <th>population</th>\n",
       "      <th>minimumwage</th>\n",
       "      <th>maternalmortalityratio</th>\n",
       "      <th>gdp</th>\n",
       "      <th>cpichange</th>\n",
       "      <th>cpi</th>\n",
       "      <th>co2emissions</th>\n",
       "      <th>physiciansperthousand</th>\n",
       "      <th>outofpockethealthexpenditure</th>\n",
       "      <th>lifeexpectancy</th>\n",
       "      <th>infantmortality</th>\n",
       "      <th>grosstertiaryeducationenrollment</th>\n",
       "      <th>gasolineprice</th>\n",
       "      <th>fertilityrate</th>\n",
       "      <th>callingcode</th>\n",
       "      <th>birthrate</th>\n",
       "      <th>armedforcessize</th>\n",
       "      <th>landarea</th>\n",
       "      <th>agriculturalland</th>\n",
       "      <th>taxrevenue</th>\n",
       "      <th>populationlaborforceparticipation</th>\n",
       "      <th>forestedarea</th>\n",
       "    </tr>\n",
       "  </thead>\n",
       "  <tbody>\n",
       "    <tr>\n",
       "      <th>0</th>\n",
       "      <td>Afghanistan</td>\n",
       "      <td>60.0</td>\n",
       "      <td>AF</td>\n",
       "      <td>Kabul</td>\n",
       "      <td>AFN</td>\n",
       "      <td>Kabul</td>\n",
       "      <td>Pashto</td>\n",
       "      <td>67.709953</td>\n",
       "      <td>33.939110</td>\n",
       "      <td>Asia</td>\n",
       "      <td>9797273.0</td>\n",
       "      <td>11.12</td>\n",
       "      <td>71.4</td>\n",
       "      <td>38041754.0</td>\n",
       "      <td>0.43</td>\n",
       "      <td>638.0</td>\n",
       "      <td>1.910135e+10</td>\n",
       "      <td>2.3</td>\n",
       "      <td>149.90</td>\n",
       "      <td>8672.0</td>\n",
       "      <td>0.28</td>\n",
       "      <td>78.4</td>\n",
       "      <td>64.5</td>\n",
       "      <td>47.9</td>\n",
       "      <td>9.7</td>\n",
       "      <td>0.70</td>\n",
       "      <td>4.47</td>\n",
       "      <td>93.0</td>\n",
       "      <td>32.49</td>\n",
       "      <td>323000.0</td>\n",
       "      <td>652230.0</td>\n",
       "      <td>58.1</td>\n",
       "      <td>9.3</td>\n",
       "      <td>48.9</td>\n",
       "      <td>2.1</td>\n",
       "    </tr>\n",
       "    <tr>\n",
       "      <th>1</th>\n",
       "      <td>Albania</td>\n",
       "      <td>105.0</td>\n",
       "      <td>AL</td>\n",
       "      <td>Tirana</td>\n",
       "      <td>ALL</td>\n",
       "      <td>Tirana</td>\n",
       "      <td>Albanian</td>\n",
       "      <td>20.168331</td>\n",
       "      <td>41.153332</td>\n",
       "      <td>Europa</td>\n",
       "      <td>1747593.0</td>\n",
       "      <td>12.33</td>\n",
       "      <td>36.6</td>\n",
       "      <td>2854191.0</td>\n",
       "      <td>1.12</td>\n",
       "      <td>15.0</td>\n",
       "      <td>1.527808e+10</td>\n",
       "      <td>1.4</td>\n",
       "      <td>119.05</td>\n",
       "      <td>4536.0</td>\n",
       "      <td>1.20</td>\n",
       "      <td>56.9</td>\n",
       "      <td>78.5</td>\n",
       "      <td>7.8</td>\n",
       "      <td>55.0</td>\n",
       "      <td>1.36</td>\n",
       "      <td>1.62</td>\n",
       "      <td>355.0</td>\n",
       "      <td>11.78</td>\n",
       "      <td>9000.0</td>\n",
       "      <td>28748.0</td>\n",
       "      <td>43.1</td>\n",
       "      <td>18.6</td>\n",
       "      <td>55.7</td>\n",
       "      <td>28.1</td>\n",
       "    </tr>\n",
       "  </tbody>\n",
       "</table>\n",
       "</div>"
      ],
      "text/plain": [
       "       country  density abbreviation capitalmajorcity currencycode  \\\n",
       "0  Afghanistan     60.0           AF            Kabul          AFN   \n",
       "1      Albania    105.0           AL           Tirana          ALL   \n",
       "\n",
       "  largestcity officiallanguage  longitude   latitude continent  \\\n",
       "0       Kabul           Pashto  67.709953  33.939110      Asia   \n",
       "1      Tirana         Albanian  20.168331  41.153332    Europa   \n",
       "\n",
       "   urbanpopulation  unemploymentrate  totaltaxrate  population  minimumwage  \\\n",
       "0        9797273.0             11.12          71.4  38041754.0         0.43   \n",
       "1        1747593.0             12.33          36.6   2854191.0         1.12   \n",
       "\n",
       "   maternalmortalityratio           gdp  cpichange     cpi  co2emissions  \\\n",
       "0                   638.0  1.910135e+10        2.3  149.90        8672.0   \n",
       "1                    15.0  1.527808e+10        1.4  119.05        4536.0   \n",
       "\n",
       "   physiciansperthousand  outofpockethealthexpenditure  lifeexpectancy  \\\n",
       "0                   0.28                          78.4            64.5   \n",
       "1                   1.20                          56.9            78.5   \n",
       "\n",
       "   infantmortality  grosstertiaryeducationenrollment  gasolineprice  \\\n",
       "0             47.9                               9.7           0.70   \n",
       "1              7.8                              55.0           1.36   \n",
       "\n",
       "   fertilityrate  callingcode  birthrate  armedforcessize  landarea  \\\n",
       "0           4.47         93.0      32.49         323000.0  652230.0   \n",
       "1           1.62        355.0      11.78           9000.0   28748.0   \n",
       "\n",
       "   agriculturalland  taxrevenue  populationlaborforceparticipation  \\\n",
       "0              58.1         9.3                               48.9   \n",
       "1              43.1        18.6                               55.7   \n",
       "\n",
       "   forestedarea  \n",
       "0           2.1  \n",
       "1          28.1  "
      ]
     },
     "execution_count": 8,
     "metadata": {},
     "output_type": "execute_result"
    }
   ],
   "source": [
    "df= pd.read_csv('df_continentes_sinnulos.csv', index_col=0)\n",
    "df.head(2)"
   ]
  },
  {
   "cell_type": "markdown",
   "metadata": {},
   "source": [
    "**Bonus**\n",
    "\n",
    "3. Intervalo de Confianza para la Tasa de Natalidad\n",
    "\n",
    "Contexto: Trabajas en una agencia gubernamental que se ocupa de cuestiones demográficas y deseas determinar el intervalo de confianza al 99% para la tasa de natalidad promedio en Asia."
   ]
  },
  {
   "cell_type": "code",
   "execution_count": 9,
   "metadata": {},
   "outputs": [
    {
     "name": "stdout",
     "output_type": "stream",
     "text": [
      "Intervalo de Confianza para la Tasa de Natalidad en Asia:\n",
      "Media Muestral: 19.48\n",
      "Error Estándar: 1.17\n",
      "Nivel de Confianza: 0.99\n",
      "Valor Crítico: 2.72\n",
      "Intervalo de Confianza: (16.29, 22.68)\n"
     ]
    }
   ],
   "source": [
    "#Primero calculo los datos de natalidad para el continente asiático.\n",
    "natalidad_asia = df[df['continent'] == 'Asia']['birthrate']\n",
    "\n",
    "#Luego calculo la media de la tasa de natalidad.\n",
    "media_natalidad = natalidad_asia.mean()\n",
    "\n",
    "#Calculo el error estándar utilizando el método \"sem\" (standar error mean) de la librería stats\n",
    "error_natalidad = stats.sem(natalidad_asia)\n",
    "\n",
    "#Determino el nivel de confianza al 99%.\n",
    "nivel_confianza_natalidad = 0.99\n",
    "\n",
    "#Calculo los grados de libertad de la muestra (n-1)\n",
    "grados_libertad_natalidad = len(natalidad_asia) - 1\n",
    "\n",
    "#Calculo el valor crítico de la muestra\n",
    "valor_critico_natalidad = stats.t.ppf((1 + nivel_confianza_natalidad) / 2, df=grados_libertad_natalidad)\n",
    "\n",
    "#Calculo el intervalo de confianza\n",
    "limite_inferior_natalidad = media_natalidad - valor_critico_natalidad * error_natalidad\n",
    "limite_superior_natalidad = media_natalidad + valor_critico_natalidad * error_natalidad\n",
    "\n",
    "#Imprimo los resultados\n",
    "print('Intervalo de Confianza para la Tasa de Natalidad en Asia:')\n",
    "print(f'Media Muestral: {np.round(media_natalidad, 2)}')\n",
    "print(f'Error Estándar: {np.round(error_natalidad, 2)}')\n",
    "print(f'Nivel de Confianza: {nivel_confianza_natalidad}')\n",
    "print(f'Valor Crítico: {np.round(valor_critico_natalidad, 2)}')\n",
    "print(f'Intervalo de Confianza: ({np.round(limite_inferior_natalidad, 2)}, {np.round(limite_superior_natalidad, 2)})')\n"
   ]
  },
  {
   "cell_type": "markdown",
   "metadata": {},
   "source": [
    "**Intervalo de Confianza para la Tasa de Natalidad en Asia** \n",
    "Conocer el intervalo de confianza de la tasa de natalidad, permite desarrollar programas gubernamentales de fomento a la natalidad en aquellas zonas donde la tasa de natalidad sea inferior al intervalo de confianza, gestionar nuevos equipamientos sociales en aquellas zonas donde la tasa de natalidad sea superior al intervalo de confianza."
   ]
  },
  {
   "cell_type": "markdown",
   "metadata": {},
   "source": [
    "4. Intervalo de Confianza para la Tasa de Desempleo\n",
    "\n",
    "Contexto: Eres un analista de políticas públicas y deseas calcular el intervalo de confianza al 95% para la tasa de desempleo promedio en los países de Oceanía."
   ]
  },
  {
   "cell_type": "code",
   "execution_count": 10,
   "metadata": {},
   "outputs": [
    {
     "name": "stdout",
     "output_type": "stream",
     "text": [
      "Intervalo de Confianza para la Tasa de Desempleo en Oceanía:\n",
      "Media Muestral: 4.46\n",
      "Error Estándar: 0.28\n",
      "Nivel de Confianza: 0.95\n",
      "Valor Crítico: 3.18\n",
      "Intervalo de Confianza: (3.57, 5.35)\n"
     ]
    }
   ],
   "source": [
    "#Primero calculo los datos de desempleo para el continente oceánico.\n",
    "desempleo_oceania = df[df['continent'] == 'Oceanía']['unemploymentrate']\n",
    "\n",
    "#Luego calculo la media de la tasa de natalidad.\n",
    "media_desempleo = desempleo_oceania.mean()\n",
    "\n",
    "#Calculo el error estándar utilizando el método \"sem\" de la librería stats\n",
    "error_desempleo = stats.sem(desempleo_oceania)\n",
    "\n",
    "#Determino el nivel de confianza al 95%.\n",
    "nivel_confianza_desempleo = 0.95\n",
    "\n",
    "#Calculo los grados de libertad de la muestra (n-1)\n",
    "grados_libertad_desempleo = len(desempleo_oceania) - 1\n",
    "\n",
    "#Calculo el valor crítico de la muestra\n",
    "valor_critico_desempleo = stats.t.ppf((1 + nivel_confianza_desempleo) / 2, grados_libertad_desempleo)\n",
    "\n",
    "#Calculo el intervalo de confianza\n",
    "limite_inferior_desempleo = media_desempleo - valor_critico_desempleo * error_desempleo\n",
    "limite_superior_desempleo = media_desempleo + valor_critico_desempleo * error_desempleo\n",
    "\n",
    "#Imprimo los resultados\n",
    "print('Intervalo de Confianza para la Tasa de Desempleo en Oceanía:')\n",
    "print(f'Media Muestral: {np.round(media_desempleo, 2)}')\n",
    "print(f'Error Estándar: {np.round(error_desempleo, 2)}')\n",
    "print(f'Nivel de Confianza: {nivel_confianza_desempleo}')\n",
    "print(f'Valor Crítico: {np.round(valor_critico_desempleo, 2)}')\n",
    "print(f'Intervalo de Confianza: ({np.round(limite_inferior_desempleo, 2)}, {np.round(limite_superior_desempleo, 2)})')\n"
   ]
  },
  {
   "cell_type": "markdown",
   "metadata": {},
   "source": [
    "**Intervalo de Confianza para la Tasa de Desempleo en Oceanía** Conocer este intervalo de confianza permite desarrollar políticas económicas que fomenten el empleo y la inclusión laboral, políticas sociales que protegan e integren a las personas desempleadas y desarrolla programas formativos orientados a mejorar las habilidades laborales de la población."
   ]
  },
  {
   "cell_type": "markdown",
   "metadata": {},
   "source": [
    "5. Intervalo de Confianza para la Tasa de Impuestos\n",
    "\n",
    "Contexto: Trabajas en un ministerio de finanzas y deseas estimar el intervalo de confianza al 90% para la tasa de impuestos promedio en los países de África."
   ]
  },
  {
   "cell_type": "code",
   "execution_count": 11,
   "metadata": {},
   "outputs": [
    {
     "name": "stdout",
     "output_type": "stream",
     "text": [
      "Intervalo de Confianza para la Tasa de Impuestos en África:\n",
      "Media Muestral: 4.46\n",
      "Error Estándar: 0.28\n",
      "Nivel de Confianza: 0.95\n",
      "Valor Crítico: 3.18\n",
      "Intervalo de Confianza: (3.57, 5.35)\n"
     ]
    }
   ],
   "source": [
    "#Primero calculo los datos de la Tasa de Impuestos para el continente africano.\n",
    "impuestos_africa = df[df['continent'] == 'África']['totaltaxrate']\n",
    "\n",
    "#Luego calculo la media de la tasa de natalidad.\n",
    "media_impuestos = impuestos_africa.mean()\n",
    "\n",
    "#Calculo el error estándar utilizando el método \"sem\" de la librería stats\n",
    "error_impuestos= stats.sem(impuestos_africa)\n",
    "\n",
    "#Determino el nivel de confianza al 90%.\n",
    "nivel_confianza_impuestos = 0.90\n",
    "\n",
    "#Calculo los grados de libertad de la muestra (n-1)\n",
    "grados_libertad_impuestos = len(impuestos_africa) - 1\n",
    "\n",
    "#Calculo el valor crítico de la muestra\n",
    "valor_critico_impuestos = stats.t.ppf((1 + nivel_confianza_impuestos) / 2, grados_libertad_impuestos)\n",
    "\n",
    "#Calculo el intervalo de confianza\n",
    "limite_inferior_impuestos = media_impuestos - valor_critico_impuestos * error_impuestos\n",
    "limite_superior_impuestos = media_impuestos + valor_critico_impuestos * error_impuestos\n",
    "\n",
    "#Imprimo los resultados\n",
    "print('Intervalo de Confianza para la Tasa de Impuestos en África:')\n",
    "print(f'Media Muestral: {np.round(media_desempleo, 2)}')\n",
    "print(f'Error Estándar: {np.round(error_desempleo, 2)}')\n",
    "print(f'Nivel de Confianza: {nivel_confianza_desempleo}')\n",
    "print(f'Valor Crítico: {np.round(valor_critico_desempleo, 2)}')\n",
    "print(f'Intervalo de Confianza: ({np.round(limite_inferior_desempleo, 2)}, {np.round(limite_superior_desempleo, 2)})')\n"
   ]
  },
  {
   "cell_type": "markdown",
   "metadata": {},
   "source": [
    "**Intervalo de Confianza para la Tasa de Impuestos en África** Conocer este intervalo de confianza permite mejorar las políticas económicas y fiscales para que sean equitativas y transparentes, ajustándo estas políticas en función de las necesidades y capacidades económicas de cada país. "
   ]
  }
 ],
 "metadata": {
  "kernelspec": {
   "display_name": "Python 3",
   "language": "python",
   "name": "python3"
  },
  "language_info": {
   "codemirror_mode": {
    "name": "ipython",
    "version": 3
   },
   "file_extension": ".py",
   "mimetype": "text/x-python",
   "name": "python",
   "nbconvert_exporter": "python",
   "pygments_lexer": "ipython3",
   "version": "3.11.5"
  }
 },
 "nbformat": 4,
 "nbformat_minor": 2
}
