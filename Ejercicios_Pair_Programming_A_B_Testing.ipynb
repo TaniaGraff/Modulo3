{
 "cells": [
  {
   "cell_type": "markdown",
   "metadata": {},
   "source": [
    "### Ejericicios de A/B Testing\n",
    "\n",
    "**Ejercicio 1:**\n",
    "\n",
    "Supongamos que estamos realizando un experimento para determinar si un nuevo diseño de anuncio (test group \"ad\") tiene un impacto significativo en la tasa de conversión en comparación con el diseño de anuncio anterior (test group \"psa\")."
   ]
  },
  {
   "cell_type": "markdown",
   "metadata": {},
   "source": [
    "Objetivo del ejercicio: Comparar las tasas de conversión entre los grupos de prueba \"ad\" y \"psa\" para determinar si el nuevo diseño de anuncio es más efectivo en la conversión de usuarios."
   ]
  },
  {
   "cell_type": "code",
   "execution_count": 96,
   "metadata": {},
   "outputs": [],
   "source": [
    "#Importo librerías\n",
    "import pandas as pd\n",
    "import numpy as np\n",
    "\n",
    "import matplotlib.pyplot as plt\n",
    "import seaborn as sns\n",
    "\n",
    "import scipy.stats as stats\n",
    "import scipy.stats as st\n",
    "from scipy.stats import shapiro, poisson, chisquare, expon, kstest\n",
    "\n",
    "import warnings\n",
    "warnings.filterwarnings(\"ignore\")\n",
    "\n",
    "#Configuro la visualización del DF.\n",
    "pd.set_option('display.max_columns', None) "
   ]
  },
  {
   "cell_type": "markdown",
   "metadata": {},
   "source": [
    "Pasos que debemos seguir:\n",
    "\n",
    "- Preparación de los datos: Asegúrate de que los datos estén limpios y listos para el análisis. Esto incluye la eliminación de datos faltantes y la verificación de la coherencia de los datos."
   ]
  },
  {
   "cell_type": "code",
   "execution_count": 58,
   "metadata": {},
   "outputs": [
    {
     "data": {
      "text/html": [
       "<div>\n",
       "<style scoped>\n",
       "    .dataframe tbody tr th:only-of-type {\n",
       "        vertical-align: middle;\n",
       "    }\n",
       "\n",
       "    .dataframe tbody tr th {\n",
       "        vertical-align: top;\n",
       "    }\n",
       "\n",
       "    .dataframe thead th {\n",
       "        text-align: right;\n",
       "    }\n",
       "</style>\n",
       "<table border=\"1\" class=\"dataframe\">\n",
       "  <thead>\n",
       "    <tr style=\"text-align: right;\">\n",
       "      <th></th>\n",
       "      <th>user id</th>\n",
       "      <th>test group</th>\n",
       "      <th>converted</th>\n",
       "      <th>total ads</th>\n",
       "      <th>most ads day</th>\n",
       "      <th>most ads hour</th>\n",
       "    </tr>\n",
       "  </thead>\n",
       "  <tbody>\n",
       "    <tr>\n",
       "      <th>0</th>\n",
       "      <td>1069124</td>\n",
       "      <td>ad</td>\n",
       "      <td>False</td>\n",
       "      <td>130</td>\n",
       "      <td>Monday</td>\n",
       "      <td>20</td>\n",
       "    </tr>\n",
       "    <tr>\n",
       "      <th>1</th>\n",
       "      <td>1119715</td>\n",
       "      <td>ad</td>\n",
       "      <td>False</td>\n",
       "      <td>93</td>\n",
       "      <td>Tuesday</td>\n",
       "      <td>22</td>\n",
       "    </tr>\n",
       "    <tr>\n",
       "      <th>2</th>\n",
       "      <td>1144181</td>\n",
       "      <td>ad</td>\n",
       "      <td>False</td>\n",
       "      <td>21</td>\n",
       "      <td>Tuesday</td>\n",
       "      <td>18</td>\n",
       "    </tr>\n",
       "    <tr>\n",
       "      <th>3</th>\n",
       "      <td>1435133</td>\n",
       "      <td>ad</td>\n",
       "      <td>False</td>\n",
       "      <td>355</td>\n",
       "      <td>Tuesday</td>\n",
       "      <td>10</td>\n",
       "    </tr>\n",
       "    <tr>\n",
       "      <th>4</th>\n",
       "      <td>1015700</td>\n",
       "      <td>ad</td>\n",
       "      <td>False</td>\n",
       "      <td>276</td>\n",
       "      <td>Friday</td>\n",
       "      <td>14</td>\n",
       "    </tr>\n",
       "  </tbody>\n",
       "</table>\n",
       "</div>"
      ],
      "text/plain": [
       "   user id test group  converted  total ads most ads day  most ads hour\n",
       "0  1069124         ad      False        130       Monday             20\n",
       "1  1119715         ad      False         93      Tuesday             22\n",
       "2  1144181         ad      False         21      Tuesday             18\n",
       "3  1435133         ad      False        355      Tuesday             10\n",
       "4  1015700         ad      False        276       Friday             14"
      ]
     },
     "execution_count": 58,
     "metadata": {},
     "output_type": "execute_result"
    }
   ],
   "source": [
    "#Abro el csv.\n",
    "df=pd.read_csv('marketing_AB.csv', index_col=0)\n",
    "df.head()"
   ]
  },
  {
   "cell_type": "code",
   "execution_count": 59,
   "metadata": {},
   "outputs": [],
   "source": [
    "#Cambio el nombre de las columnas\n",
    "columnas = [col.lower().replace(\" \", \"_\") for col in df.columns]\n",
    "df.columns = columnas"
   ]
  },
  {
   "cell_type": "code",
   "execution_count": 60,
   "metadata": {},
   "outputs": [],
   "source": [
    "#Cambio la tipología de la columna 'converted' de booleano a object.\n",
    "df['converted'] = df['converted'].astype('object')\n",
    "df['converted'] = df['converted'].replace({True: 'yes', False: 'no'})"
   ]
  },
  {
   "cell_type": "code",
   "execution_count": 61,
   "metadata": {},
   "outputs": [
    {
     "name": "stdout",
     "output_type": "stream",
     "text": [
      "<class 'pandas.core.frame.DataFrame'>\n",
      "Index: 588101 entries, 0 to 588100\n",
      "Data columns (total 6 columns):\n",
      " #   Column         Non-Null Count   Dtype \n",
      "---  ------         --------------   ----- \n",
      " 0   user_id        588101 non-null  int64 \n",
      " 1   test_group     588101 non-null  object\n",
      " 2   converted      588101 non-null  object\n",
      " 3   total_ads      588101 non-null  int64 \n",
      " 4   most_ads_day   588101 non-null  object\n",
      " 5   most_ads_hour  588101 non-null  int64 \n",
      "dtypes: int64(3), object(3)\n",
      "memory usage: 31.4+ MB\n"
     ]
    }
   ],
   "source": [
    "#Imprimo la info del DF.\n",
    "df.info()"
   ]
  },
  {
   "cell_type": "code",
   "execution_count": 65,
   "metadata": {},
   "outputs": [
    {
     "name": "stdout",
     "output_type": "stream",
     "text": [
      "La columna USER_ID tiene 0 valores duplicados\n",
      "La columna TEST_GROUP tiene 588099 valores duplicados\n",
      "La columna CONVERTED tiene 588099 valores duplicados\n",
      "La columna TOTAL_ADS tiene 587294 valores duplicados\n",
      "La columna MOST_ADS_DAY tiene 588094 valores duplicados\n",
      "La columna MOST_ADS_HOUR tiene 588077 valores duplicados\n"
     ]
    }
   ],
   "source": [
    "#Busco valores duplicados dentro de las columnas.\n",
    "for columna in df.columns:\n",
    "    duplicados= df[columna].duplicated().sum()\n",
    "\n",
    "    print(f'La columna {columna.upper()} tiene {duplicados} valores duplicados')\n",
    "\n",
    "#Los duplicados tienen sentido así que no los elimino.\n"
   ]
  },
  {
   "cell_type": "code",
   "execution_count": 66,
   "metadata": {},
   "outputs": [
    {
     "data": {
      "text/html": [
       "<div>\n",
       "<style scoped>\n",
       "    .dataframe tbody tr th:only-of-type {\n",
       "        vertical-align: middle;\n",
       "    }\n",
       "\n",
       "    .dataframe tbody tr th {\n",
       "        vertical-align: top;\n",
       "    }\n",
       "\n",
       "    .dataframe thead th {\n",
       "        text-align: right;\n",
       "    }\n",
       "</style>\n",
       "<table border=\"1\" class=\"dataframe\">\n",
       "  <thead>\n",
       "    <tr style=\"text-align: right;\">\n",
       "      <th></th>\n",
       "      <th>count</th>\n",
       "      <th>mean</th>\n",
       "      <th>std</th>\n",
       "      <th>min</th>\n",
       "      <th>25%</th>\n",
       "      <th>50%</th>\n",
       "      <th>75%</th>\n",
       "      <th>max</th>\n",
       "    </tr>\n",
       "  </thead>\n",
       "  <tbody>\n",
       "    <tr>\n",
       "      <th>user_id</th>\n",
       "      <td>588101.0</td>\n",
       "      <td>1.310692e+06</td>\n",
       "      <td>202225.983128</td>\n",
       "      <td>900000.0</td>\n",
       "      <td>1143190.0</td>\n",
       "      <td>1313725.0</td>\n",
       "      <td>1484088.0</td>\n",
       "      <td>1654483.0</td>\n",
       "    </tr>\n",
       "    <tr>\n",
       "      <th>total_ads</th>\n",
       "      <td>588101.0</td>\n",
       "      <td>2.482088e+01</td>\n",
       "      <td>43.715181</td>\n",
       "      <td>1.0</td>\n",
       "      <td>4.0</td>\n",
       "      <td>13.0</td>\n",
       "      <td>27.0</td>\n",
       "      <td>2065.0</td>\n",
       "    </tr>\n",
       "    <tr>\n",
       "      <th>most_ads_hour</th>\n",
       "      <td>588101.0</td>\n",
       "      <td>1.446906e+01</td>\n",
       "      <td>4.834634</td>\n",
       "      <td>0.0</td>\n",
       "      <td>11.0</td>\n",
       "      <td>14.0</td>\n",
       "      <td>18.0</td>\n",
       "      <td>23.0</td>\n",
       "    </tr>\n",
       "  </tbody>\n",
       "</table>\n",
       "</div>"
      ],
      "text/plain": [
       "                  count          mean            std       min        25%  \\\n",
       "user_id        588101.0  1.310692e+06  202225.983128  900000.0  1143190.0   \n",
       "total_ads      588101.0  2.482088e+01      43.715181       1.0        4.0   \n",
       "most_ads_hour  588101.0  1.446906e+01       4.834634       0.0       11.0   \n",
       "\n",
       "                     50%        75%        max  \n",
       "user_id        1313725.0  1484088.0  1654483.0  \n",
       "total_ads           13.0       27.0     2065.0  \n",
       "most_ads_hour       14.0       18.0       23.0  "
      ]
     },
     "execution_count": 66,
     "metadata": {},
     "output_type": "execute_result"
    }
   ],
   "source": [
    "#Busco los principales estadísticos de las columnas numéricas.\n",
    "df.describe().T"
   ]
  },
  {
   "cell_type": "code",
   "execution_count": 67,
   "metadata": {},
   "outputs": [
    {
     "data": {
      "text/html": [
       "<div>\n",
       "<style scoped>\n",
       "    .dataframe tbody tr th:only-of-type {\n",
       "        vertical-align: middle;\n",
       "    }\n",
       "\n",
       "    .dataframe tbody tr th {\n",
       "        vertical-align: top;\n",
       "    }\n",
       "\n",
       "    .dataframe thead th {\n",
       "        text-align: right;\n",
       "    }\n",
       "</style>\n",
       "<table border=\"1\" class=\"dataframe\">\n",
       "  <thead>\n",
       "    <tr style=\"text-align: right;\">\n",
       "      <th></th>\n",
       "      <th>count</th>\n",
       "      <th>unique</th>\n",
       "      <th>top</th>\n",
       "      <th>freq</th>\n",
       "    </tr>\n",
       "  </thead>\n",
       "  <tbody>\n",
       "    <tr>\n",
       "      <th>test_group</th>\n",
       "      <td>588101</td>\n",
       "      <td>2</td>\n",
       "      <td>ad</td>\n",
       "      <td>564577</td>\n",
       "    </tr>\n",
       "    <tr>\n",
       "      <th>converted</th>\n",
       "      <td>588101</td>\n",
       "      <td>2</td>\n",
       "      <td>no</td>\n",
       "      <td>573258</td>\n",
       "    </tr>\n",
       "    <tr>\n",
       "      <th>most_ads_day</th>\n",
       "      <td>588101</td>\n",
       "      <td>7</td>\n",
       "      <td>Friday</td>\n",
       "      <td>92608</td>\n",
       "    </tr>\n",
       "  </tbody>\n",
       "</table>\n",
       "</div>"
      ],
      "text/plain": [
       "               count unique     top    freq\n",
       "test_group    588101      2      ad  564577\n",
       "converted     588101      2      no  573258\n",
       "most_ads_day  588101      7  Friday   92608"
      ]
     },
     "execution_count": 67,
     "metadata": {},
     "output_type": "execute_result"
    }
   ],
   "source": [
    "#Busco los principales estádisticos para las columnas categóricas.\n",
    "df.describe(include='O').T"
   ]
  },
  {
   "cell_type": "code",
   "execution_count": 110,
   "metadata": {},
   "outputs": [
    {
     "data": {
      "text/plain": [
       "test_group\n",
       "ad     564577\n",
       "psa     23524\n",
       "Name: count, dtype: int64"
      ]
     },
     "execution_count": 110,
     "metadata": {},
     "output_type": "execute_result"
    }
   ],
   "source": [
    "#Busco en la columna 'test_group' los valores únicos para encontrar a los miembros de cada grupo de control.\n",
    "df['test_group'].value_counts()"
   ]
  },
  {
   "cell_type": "code",
   "execution_count": 149,
   "metadata": {},
   "outputs": [],
   "source": [
    "#Filtro los datos y los agrupo para crear los dos grupos de muestras, segmentando por las dos tipologías de anuncios 'ad' y 'psa'.\n",
    "conversiones_ad = df[df['test_group'] == 'ad']['converted'] == 'yes'\n",
    "conversiones_psa = df[df['test_group'] == 'psa']['converted'] == 'yes'"
   ]
  },
  {
   "cell_type": "code",
   "execution_count": 151,
   "metadata": {},
   "outputs": [
    {
     "name": "stdout",
     "output_type": "stream",
     "text": [
      "La media de usuarios del gurpo ad que han convertido es de: 0.025546559636683747\n",
      "La media de usuarios del gurpo psa que han convertido es de: 0.01785410644448223\n"
     ]
    }
   ],
   "source": [
    "#Busco la media de conversión de cada grupo.\n",
    "media_grupo_ad = (df[df['test_group'] == 'ad']['converted'] == 'yes').mean()\n",
    "media_grupo_psa = (df[df['test_group']== 'psa']['converted']=='yes').mean()\n",
    "\n",
    "print(f'La media de usuarios del gurpo ad que han convertido es de: {media_grupo_ad}')\n",
    "print(f'La media de usuarios del gurpo psa que han convertido es de: {media_grupo_psa}')"
   ]
  },
  {
   "cell_type": "code",
   "execution_count": 152,
   "metadata": {},
   "outputs": [
    {
     "data": {
      "text/html": [
       "<div>\n",
       "<style scoped>\n",
       "    .dataframe tbody tr th:only-of-type {\n",
       "        vertical-align: middle;\n",
       "    }\n",
       "\n",
       "    .dataframe tbody tr th {\n",
       "        vertical-align: top;\n",
       "    }\n",
       "\n",
       "    .dataframe thead th {\n",
       "        text-align: right;\n",
       "    }\n",
       "</style>\n",
       "<table border=\"1\" class=\"dataframe\">\n",
       "  <thead>\n",
       "    <tr style=\"text-align: right;\">\n",
       "      <th>converted</th>\n",
       "      <th>no</th>\n",
       "      <th>yes</th>\n",
       "    </tr>\n",
       "    <tr>\n",
       "      <th>test_group</th>\n",
       "      <th></th>\n",
       "      <th></th>\n",
       "    </tr>\n",
       "  </thead>\n",
       "  <tbody>\n",
       "    <tr>\n",
       "      <th>ad</th>\n",
       "      <td>550154</td>\n",
       "      <td>14423</td>\n",
       "    </tr>\n",
       "    <tr>\n",
       "      <th>psa</th>\n",
       "      <td>23104</td>\n",
       "      <td>420</td>\n",
       "    </tr>\n",
       "  </tbody>\n",
       "</table>\n",
       "</div>"
      ],
      "text/plain": [
       "converted       no    yes\n",
       "test_group               \n",
       "ad          550154  14423\n",
       "psa          23104    420"
      ]
     },
     "execution_count": 152,
     "metadata": {},
     "output_type": "execute_result"
    }
   ],
   "source": [
    "#Creo una tabla de contingencia para ver la relación entre las categorías de las dos variables categóricas.\n",
    "tabla_contingencia = pd.crosstab(df['test_group'], df['converted'])\n",
    "tabla_contingencia"
   ]
  },
  {
   "cell_type": "code",
   "execution_count": 153,
   "metadata": {},
   "outputs": [
    {
     "data": {
      "image/png": "[encoded data removed]",
      "text/plain": [
       "<Figure size 1200x600 with 2 Axes>"
      ]
     },
     "metadata": {},
     "output_type": "display_data"
    }
   ],
   "source": [
    "#Creo un gráfico para representar visualmente esta relación entre los dos conjuntos de datos.\n",
    "fig, axes = plt.subplots(nrows=1, ncols=2, figsize=(12, 6))\n",
    "\n",
    "sns.barplot(x=tabla_contingencia.columns, y=tabla_contingencia.loc['ad'], ax=axes[0])\n",
    "axes[0].set_title('Grupo ad')\n",
    "axes[0].set_xlabel('Converted')\n",
    "axes[0].set_ylabel('Frecuencia')\n",
    "axes[0].set_ylim(0, 600000);\n",
    "\n",
    "\n",
    "# Gráfico de barras para 'psa'\n",
    "sns.barplot(x=tabla_contingencia.columns, y=tabla_contingencia.loc['psa'], ax=axes[1])\n",
    "axes[1].set_title('Grupo psa')\n",
    "axes[1].set_xlabel('Converted')\n",
    "axes[1].set_ylabel('Frecuencia')\n",
    "axes[1].set_ylim(0, 600000);\n"
   ]
  },
  {
   "cell_type": "markdown",
   "metadata": {},
   "source": [
    "- Definición de las hipótesis: Plantea una hipótesis nula (H0) y una hipótesis alternativa (H1) para el experimento (en este caso os las damos definidas):\n",
    "\n",
    "    - Hipótesis nula (H0): No hay diferencia significativa en la tasa de conversión entre los grupos de prueba \"ad\" y \"psa\".\n",
    "\n",
    "    - Hipótesis alternativa (H1): Existe una diferencia significativa en la tasa de conversión entre los grupos de prueba \"ad\" y \"psa\"."
   ]
  },
  {
   "cell_type": "markdown",
   "metadata": {},
   "source": [
    "- Cálculo de la tasa de conversión: Calcula la tasa de conversión para cada grupo:\n",
    "\n",
    "    - Para el grupo \"ad\", la tasa de conversión es el número de usuarios convertidos dividido por el número total de usuarios en ese grupo.\n",
    "\n",
    "    - Para el grupo \"psa\", realiza el mismo cálculo."
   ]
  },
  {
   "cell_type": "code",
   "execution_count": 156,
   "metadata": {},
   "outputs": [
    {
     "name": "stdout",
     "output_type": "stream",
     "text": [
      "La tasa de conversión del grupo ad es de 0.025546559636683747\n",
      "La tasa de conversión del grupo psa es de 0.01785410644448223\n"
     ]
    }
   ],
   "source": [
    "#Recupero los datos de la tabla de contingencia para calcular la tasa de conversión\n",
    "tasa_conversion_ad= 14423/(550154 + 14423)\n",
    "tasa_conversion_psa= 420/(23104+420)\n",
    "\n",
    "#Observo que los resultados de la tasa de conversión son los mismos que la media de cada grupo que se ha convertido en cliente.\n",
    "print(f'La tasa de conversión del grupo ad es de {tasa_conversion_ad}')\n",
    "print(f'La tasa de conversión del grupo psa es de {tasa_conversion_psa}')\n"
   ]
  },
  {
   "cell_type": "markdown",
   "metadata": {},
   "source": [
    "- Prueba de hipótesis: Utiliza una prueba estadística, como la prueba t de Student o la prueba chi-cuadrado, para comparar las tasas de conversión entre los grupos \"ad\" y \"psa\"."
   ]
  },
  {
   "cell_type": "code",
   "execution_count": 146,
   "metadata": {},
   "outputs": [
    {
     "name": "stdout",
     "output_type": "stream",
     "text": [
      "El p_value es de: 1.7033052627831264e-13\n"
     ]
    }
   ],
   "source": [
    "#Recupero los datos filtrados con las muestras de conversiones para cada grupo.\n",
    "conversiones_ad = df[df['test_group'] == 'ad']['converted'] == 'yes'\n",
    "conversiones_psa = df[df['test_group'] == 'psa']['converted'] == 'yes'\n",
    "\n",
    "#Realizo la prueba t de Student a las dos muestras.\n",
    "t_statistic, p_value = stats.ttest_ind(conversiones_ad, conversiones_psa)\n",
    "\n",
    "#Imprimo el p_value.\n",
    "p_value = p_value\n",
    "print(f'El p_value es de: {p_value}')\n",
    "\n",
    "#Establezco el nivel de significancia (alfa) en 0.05.\n",
    "alfa = 0.05\n"
   ]
  },
  {
   "cell_type": "markdown",
   "metadata": {},
   "source": [
    "- Análisis de resultados:\n",
    "\n",
    "    - Si el valor p es menor que un umbral predefinido (por ejemplo, 0.05), rechazamos la hipótesis nula y concluimos que hay una diferencia significativa en las tasas de conversión entre los grupos.\n",
    "\n",
    "    - Si el valor p es mayor que el umbral, no podemos rechazar la hipótesis nula y concluimos que no hay evidencia suficiente para afirmar que hay una diferencia significativa."
   ]
  },
  {
   "cell_type": "code",
   "execution_count": 139,
   "metadata": {},
   "outputs": [
    {
     "name": "stdout",
     "output_type": "stream",
     "text": [
      "Rechazamos la hipótesis nula.\n",
      "Existe una diferencia significativa en las tasas de conversión entre los grupos 'ad' y 'psa'.\n"
     ]
    }
   ],
   "source": [
    "#Comparo el valor p con el nivel de significancia.\n",
    "if p_value < alfa:\n",
    "    print(\"Rechazamos la hipótesis nula.\")\n",
    "    print(\"Existe una diferencia significativa en las tasas de conversión entre los grupos 'ad' y 'psa'.\")\n",
    "else:\n",
    "    print(\"No podemos rechazar la hipótesis nula.\")\n",
    "    print(\"No existe una diferencia significativa en las tasas de conversión entre los grupos 'ad' y 'psa'.\")"
   ]
  },
  {
   "cell_type": "markdown",
   "metadata": {},
   "source": [
    "- Conclusiones y recomendaciones: Basándote en los resultados de la prueba de hipótesis, llega a una conclusión sobre si el nuevo diseño de anuncio es más efectivo en la conversión de usuarios que el diseño anterior. Si es así, puedes hacer recomendaciones basadas en estos hallazgos."
   ]
  },
  {
   "cell_type": "markdown",
   "metadata": {},
   "source": [
    "**Conclusiones** Concluimos que el nuevo diseño de anuncio logra una conversión significativamente mayor de usuarios, por lo que resulta más efectivo."
   ]
  },
  {
   "cell_type": "markdown",
   "metadata": {},
   "source": [
    "**Ejercicio 2:**\n",
    "\n",
    "En este caso, vamos a realizar un experimento para comparar la cantidad promedio de anuncios vistos por los usuarios en los grupos \"ad\" y \"psa\" y determinar si hay una diferencia significativa entre ellos.\n",
    "\n",
    "Objetivo del experimento: Comparar la cantidad promedio de anuncios vistos por usuario entre los grupos de prueba \"ad\" y \"psa\" para determinar si el tipo de anuncio afecta la cantidad de anuncios que los usuarios ven."
   ]
  },
  {
   "cell_type": "markdown",
   "metadata": {},
   "source": [
    "- Preparación de los datos: Asegúrate de que los datos estén limpios y listos para el análisis. Esto incluye la eliminación de datos faltantes y la verificación de la coherencia de los datos."
   ]
  },
  {
   "cell_type": "code",
   "execution_count": 143,
   "metadata": {},
   "outputs": [],
   "source": [
    "#Filtro los datos y los agrupo para crear los dos grupos de muestras.\n",
    "total_anuncios_ad = df[df['test_group'] == 'ad']['total_ads']\n",
    "total_anuncios_psa = df[df['test_group'] == 'psa']['total_ads']"
   ]
  },
  {
   "cell_type": "markdown",
   "metadata": {},
   "source": [
    "- Hipótesis: Plantea una hipótesis nula (H0) y una hipótesis alternativa (H1) para el experimento. En este caso, las deberéis plantear vosotras"
   ]
  },
  {
   "cell_type": "markdown",
   "metadata": {},
   "source": [
    "**Hipótesis Nula (H0):** No hay diferencia significativa en la cantidad de anuncios vistos entre los grupos de prueba \"ad\" y \"psa\".\n",
    "\n",
    "**Hipótesis alternativa (H1):** Existe una diferencia significativa en la cantidad de anuncios vistos entre los grupos de prueba \"ad\" y \"psa\"."
   ]
  },
  {
   "cell_type": "markdown",
   "metadata": {},
   "source": [
    "- Prueba de hipótesis: Utiliza una prueba estadística, como la prueba t de Student, para comparar la cantidad promedio de anuncios vistos por usuario entre los grupos \"ad\" y \"psa\". Esto te permitirá determinar si hay una diferencia significativa entre los dos grupos."
   ]
  },
  {
   "cell_type": "code",
   "execution_count": 147,
   "metadata": {},
   "outputs": [
    {
     "name": "stdout",
     "output_type": "stream",
     "text": [
      "El p_value es de: 0.8306134186810267\n"
     ]
    }
   ],
   "source": [
    "#Realizo la prueba t de Student a las dos muestras.\n",
    "t_statistic, p_value = stats.ttest_ind(total_anuncios_ad, total_anuncios_psa)\n",
    "\n",
    "#Imprimo el p_value\n",
    "p_value = p_value\n",
    "print(f'El p_value es de: {p_value}')\n",
    "\n",
    "#Establezco el nivel de significancia (alfa) en 0.05.\n",
    "alfa = 0.05"
   ]
  },
  {
   "cell_type": "markdown",
   "metadata": {},
   "source": [
    "- Análisis de resultados:\n",
    "\n",
    "    - Si el valor p (p-value) es menor que un umbral predefinido (por ejemplo, 0.05), rechazamos la hipótesis nula y concluimos que hay una diferencia significativa en la cantidad promedio de anuncios vistos por usuario entre los grupos.\n",
    "\n",
    "    - Si el valor p es mayor que el umbral, no podemos rechazar la hipótesis nula y concluimos que no hay evidencia suficiente para afirmar que hay una diferencia significativa.\n",
    "\n"
   ]
  },
  {
   "cell_type": "code",
   "execution_count": 148,
   "metadata": {},
   "outputs": [
    {
     "name": "stdout",
     "output_type": "stream",
     "text": [
      "No podemos rechazar la hipótesis nula.\n",
      "No existe una diferencia significativa en el promedio de anuncios visto entre los grupos 'ad' y 'psa'.\n"
     ]
    }
   ],
   "source": [
    "#Comparo el valor p con el nivel de significancia.\n",
    "if p_value < alfa:\n",
    "    print(\"Rechazamos la hipótesis nula.\")\n",
    "    print(\"Existe una diferencia significativa en el promedio de anuncios visto entre los grupos 'ad' y 'psa'.\")\n",
    "else:\n",
    "    print(\"No podemos rechazar la hipótesis nula.\")\n",
    "    print(\"No existe una diferencia significativa en el promedio de anuncios visto entre los grupos 'ad' y 'psa'.\")"
   ]
  },
  {
   "cell_type": "markdown",
   "metadata": {},
   "source": [
    "- Conclusiones y recomendaciones: Basándote en los resultados de la prueba de hipótesis, llega a una conclusión sobre si el tipo de anuncio (ad o psa) tiene un impacto significativo en la cantidad promedio de anuncios vistos por usuario. Si es así, puedes hacer recomendaciones basadas en estos hallazgos."
   ]
  },
  {
   "cell_type": "markdown",
   "metadata": {},
   "source": [
    "**Conclusiones** Para saber si este dato es relevante o no, nos falta conocer la frecuencia con la que se publicó uno u otro anuncio. Si ambos se publicaron en las mismas franjas horarias el mismo número de veces, la hipótesis nula tendría más sentido. En caso contrario, la estretegía de medios debería retrabajarse para que el anuncio con mayor frecuencia de insercciones tuviera una diferencia significativa frente al otro."
   ]
  }
 ],
 "metadata": {
  "kernelspec": {
   "display_name": "base",
   "language": "python",
   "name": "python3"
  },
  "language_info": {
   "codemirror_mode": {
    "name": "ipython",
    "version": 3
   },
   "file_extension": ".py",
   "mimetype": "text/x-python",
   "name": "python",
   "nbconvert_exporter": "python",
   "pygments_lexer": "ipython3",
   "version": "3.11.5"
  }
 },
 "nbformat": 4,
 "nbformat_minor": 2
}
