{
 "cells": [
  {
   "cell_type": "markdown",
   "metadata": {},
   "source": [
    "# Ejercicios Numpy\n",
    "## Creación y Indexación:\n",
    "\n",
    "1. Crea un array 1D con 50 valores aleatorio del 10 al 99. Accede a los elementos en las posiciones múltiplos de 5."
   ]
  },
  {
   "cell_type": "code",
   "execution_count": 1,
   "metadata": {},
   "outputs": [],
   "source": [
    "#Importo librería numpy\n",
    "import numpy as np"
   ]
  },
  {
   "cell_type": "code",
   "execution_count": 4,
   "metadata": {},
   "outputs": [
    {
     "name": "stdout",
     "output_type": "stream",
     "text": [
      "[60 77 45 78 74 73 70 92 56 69 43 82 39 87 33 77 95 58 15 60 16 45 99 64\n",
      " 53 86 76 81 89 36 22 98 80 63 96 32 61 69 33 48 31 52 30 89 43 44 84 58\n",
      " 86 61]\n",
      "________________________________________________________________________\n",
      "Los elementos en posiciones múltiplos de 5 son:\n",
      " [60 73 43 77 16 86 22 32 31 44]\n"
     ]
    }
   ],
   "source": [
    "#Creo un array unidimensional.\n",
    "array1D = np.random.randint(10,100,50)\n",
    "print(array1D)\n",
    "print('________________________________________________________________________')\n",
    "#Uso un star, stop, step para encontrar los elementos en posiciones múltiples de 5.\n",
    "print(f'Los elementos en posiciones múltiplos de 5 son:\\n {array1D[::5]}')"
   ]
  },
  {
   "cell_type": "markdown",
   "metadata": {},
   "source": [
    "2. Crea un array 1D con 30 valores del 1 al 20 (ambos incluidos). Utiliza indexación para obtener los elementos en las posiciones impares."
   ]
  },
  {
   "cell_type": "code",
   "execution_count": 17,
   "metadata": {},
   "outputs": [
    {
     "name": "stdout",
     "output_type": "stream",
     "text": [
      "[18  2  6  6 16 17  4 15 19 13  9 19  8 19 12  2 20  3 17 14 12 12  4 16\n",
      " 17  5 13 12  3 19]\n",
      "________________________________________________________________________\n",
      "Los elementos en posiciones impares son:\n",
      " [ 2  6 17 15 13 19 19  2  3 14 12 16  5 12 19]\n"
     ]
    }
   ],
   "source": [
    "#Creo otro array unidimensional con valores aleatorios.\n",
    "array1D = np.random.randint(1, 21, 30)\n",
    "print(array1D)\n",
    "print('________________________________________________________________________')\n",
    "#Vuelvo a usar un star, stop, step para encontrar los elementos en posiciones impares.\n",
    "print(f'Los elementos en posiciones impares son:\\n {array1D[1::2]}')\n"
   ]
  },
  {
   "cell_type": "markdown",
   "metadata": {},
   "source": [
    "3. Crea un array 2D de forma (4, 6) con números aleatorios decimales (no deben estar comprendidos solo entre 0 y 1). Accede a la última fila de la matriz. Los decimales deben estar redondeados a 2 decimales."
   ]
  },
  {
   "cell_type": "code",
   "execution_count": 35,
   "metadata": {},
   "outputs": [
    {
     "name": "stdout",
     "output_type": "stream",
     "text": [
      "[[11.79773042 46.79226321 21.14375634 49.94845173 25.94849926 17.62332823]\n",
      " [19.57262657 41.32042989 28.34844858 32.968226   14.55099853 33.73680677]\n",
      " [13.98769625 36.60619891 23.57717098 39.3228587  43.792847   14.56622438]\n",
      " [40.64366021 39.26941105 34.43528776 26.45924447 46.97456087 29.15688645]]\n",
      "________________________________________________________________________\n",
      "Los elementos de la última fila son: [40.64 39.27 34.44 26.46 46.97 29.16]\n"
     ]
    }
   ],
   "source": [
    "#Creo otro array bidimensional con valores aleatorios decimales que sean superiores al 1, así que utilizo uniform.\n",
    "array2D = np.random.uniform(10,50,(4, 6))\n",
    "print(array2D)\n",
    "#Redondeo los resultados a dos decimales.\n",
    "array_2D_redondeado = np.round(array2D, 2)\n",
    "print('________________________________________________________________________')\n",
    "#Accdeo a la última fila de la matriz.\n",
    "print(f'Los elementos de la última fila son: {array_2D_redondeado[-1]}')\n",
    "\n"
   ]
  },
  {
   "cell_type": "markdown",
   "metadata": {},
   "source": [
    "**BONUS**: Crea un array 3D de forma (2, 3, 5) y 30 elementos con números enteros entre 0 y 100 (ambos incluidos). Reemplaza los elementos en posiciones múltiplos de 3 por 0."
   ]
  },
  {
   "cell_type": "code",
   "execution_count": 37,
   "metadata": {},
   "outputs": [
    {
     "name": "stdout",
     "output_type": "stream",
     "text": [
      "[[[38 31 86 45 83]\n",
      "  [32 36 56 70 54]\n",
      "  [70 57 81 67 64]]\n",
      "\n",
      " [[12 61  7  9 13]\n",
      "  [56 86 68 78  4]\n",
      "  [95 24 97 72 87]]]\n",
      "________________________________________________________________________\n"
     ]
    }
   ],
   "source": [
    "array3D = np.random.randint(0,101,(2,3,5))\n",
    "print(array3D)\n",
    "print('________________________________________________________________________')\n"
   ]
  },
  {
   "cell_type": "markdown",
   "metadata": {},
   "source": [
    "## Reshape y Transpose:\n",
    "1. Crea un array 3D de forma (2, 3, 4) con valores aleatorios entre 1 y 100 (ambos inclusive). Utiliza reshape para convertirlo en un array 2D. Deberás pensar en la forma que es correcta para hacer este cambio."
   ]
  },
  {
   "cell_type": "code",
   "execution_count": 42,
   "metadata": {},
   "outputs": [
    {
     "name": "stdout",
     "output_type": "stream",
     "text": [
      "[[[29 52 58 57]\n",
      "  [59  9 73 83]\n",
      "  [89 59 42  1]]\n",
      "\n",
      " [[88 99 42 26]\n",
      "  [21 99  4 58]\n",
      "  [50 79 73 49]]]\n",
      "________________________________________________________________________\n",
      "[[29 52 58 57]\n",
      " [59  9 73 83]\n",
      " [89 59 42  1]\n",
      " [88 99 42 26]\n",
      " [21 99  4 58]\n",
      " [50 79 73 49]]\n"
     ]
    }
   ],
   "source": [
    "#Creo un array tridimensional con valores aleatorios.\n",
    "array3D = np.random.randint(1,101,(2,3,4))\n",
    "print(array3D)\n",
    "print('________________________________________________________________________')\n",
    "#Las columnas y filas tienen que seguir sumando 24. Sumo las filas de las dos matrices (o multiplico 2x3) y mantengo numero columnas para poder cambiar la forma.)\n",
    "array2D = np.reshape(array3D,(6,4))\n",
    "print(array2D)"
   ]
  },
  {
   "cell_type": "markdown",
   "metadata": {},
   "source": [
    "2. Crea un array 3D de forma (3, 4, 5) con valores enteros del 1 al 61 (sin incluir). Utiliza reshape para convertirlo en un array 2D.\n"
   ]
  },
  {
   "cell_type": "code",
   "execution_count": 44,
   "metadata": {},
   "outputs": [
    {
     "name": "stdout",
     "output_type": "stream",
     "text": [
      "[[[26 29 16 22 59]\n",
      "  [41 20 45  1 23]\n",
      "  [32 10 44 51 27]\n",
      "  [ 5 14  1  6 25]]\n",
      "\n",
      " [[ 5 53 40 12 49]\n",
      "  [58 51 42 43 60]\n",
      "  [41 51 30 19  7]\n",
      "  [54 18 53 56  1]]\n",
      "\n",
      " [[26 36  5 54 50]\n",
      "  [41 58  7 59 46]\n",
      "  [ 7 40 56 42 25]\n",
      "  [ 5 13 27 43 19]]]\n",
      "________________________________________________________________________\n",
      "[[26 29 16 22 59]\n",
      " [41 20 45  1 23]\n",
      " [32 10 44 51 27]\n",
      " [ 5 14  1  6 25]\n",
      " [ 5 53 40 12 49]\n",
      " [58 51 42 43 60]\n",
      " [41 51 30 19  7]\n",
      " [54 18 53 56  1]\n",
      " [26 36  5 54 50]\n",
      " [41 58  7 59 46]\n",
      " [ 7 40 56 42 25]\n",
      " [ 5 13 27 43 19]]\n"
     ]
    }
   ],
   "source": [
    "#Creo un array tridimensional con valores enteros aleatorios.\n",
    "array3D = np.random.randint(1,61,(3,4,5))\n",
    "print(array3D)\n",
    "print('________________________________________________________________________')\n",
    "#Las columnas y filas tienen que seguir sumando 60. Sumo las filas de las dos matrices (o multiplico 3x4) y mantengo numero columnas para cambiar la matriz de forma.)\n",
    "array2D= np.reshape(array3D, (12,5))\n",
    "print(array2D)"
   ]
  },
  {
   "cell_type": "markdown",
   "metadata": {},
   "source": [
    "\n",
    "3. Utiliza el array 3D del ejercicio 2 de reshape. Utiliza transpose para permutar los ejes y obtener un nuevo array con forma (5, 4, 3)."
   ]
  },
  {
   "cell_type": "code",
   "execution_count": 47,
   "metadata": {},
   "outputs": [
    {
     "name": "stdout",
     "output_type": "stream",
     "text": [
      "[[[20 26 52 46 26]\n",
      "  [ 2 28 31 39 37]\n",
      "  [57 53 18  1 55]\n",
      "  [27 37  7 21 18]]\n",
      "\n",
      " [[26 36 28 43 43]\n",
      "  [52 57  4 36  7]\n",
      "  [56 17 53 17 18]\n",
      "  [41 29 20 46 20]]\n",
      "\n",
      " [[26 13 60 21 25]\n",
      "  [52 33 56 41 27]\n",
      "  [58 10 56 14 45]\n",
      "  [49 59  3 14 12]]]\n",
      "________________________________________________________________________\n",
      "[[[20 26 26]\n",
      "  [ 2 52 52]\n",
      "  [57 56 58]\n",
      "  [27 41 49]]\n",
      "\n",
      " [[26 36 13]\n",
      "  [28 57 33]\n",
      "  [53 17 10]\n",
      "  [37 29 59]]\n",
      "\n",
      " [[52 28 60]\n",
      "  [31  4 56]\n",
      "  [18 53 56]\n",
      "  [ 7 20  3]]\n",
      "\n",
      " [[46 43 21]\n",
      "  [39 36 41]\n",
      "  [ 1 17 14]\n",
      "  [21 46 14]]\n",
      "\n",
      " [[26 43 25]\n",
      "  [37  7 27]\n",
      "  [55 18 45]\n",
      "  [18 20 12]]]\n"
     ]
    }
   ],
   "source": [
    "#Uilizo el array del ejercicio anterior.\n",
    "array3D = np.random.randint(1,61,(3,4,5))\n",
    "print(array3D)\n",
    "print('________________________________________________________________________')\n",
    "#Uso la indexación de las dimensiones del array3D para cambiar el orden de los ejes como pide el enunciado.\n",
    "array_cambio_ejes = np.transpose(array3D, axes=(2,1,0))\n",
    "print(array_cambio_ejes)"
   ]
  },
  {
   "cell_type": "markdown",
   "metadata": {},
   "source": [
    "4. Utiliza el array 3D del ejercicio 2 de reshape. Utiliza transpose para cambiar el orden de los ejes y obtener un nuevo array con forma (3, 5, 4)."
   ]
  },
  {
   "cell_type": "code",
   "execution_count": 48,
   "metadata": {},
   "outputs": [
    {
     "name": "stdout",
     "output_type": "stream",
     "text": [
      "[[[52  1 21 49 10]\n",
      "  [27 42 14 15 39]\n",
      "  [54 57 48 26  7]\n",
      "  [ 7 17 33 43 18]]\n",
      "\n",
      " [[20  9 20 12 24]\n",
      "  [ 3 56 35 49 17]\n",
      "  [20 11 50 33 32]\n",
      "  [29 37 56 18 49]]\n",
      "\n",
      " [[53  3 25  2 53]\n",
      "  [39  5 12 21 51]\n",
      "  [59 11 17 43 37]\n",
      "  [15 33  6 21 42]]]\n",
      "________________________________________________________________________\n",
      "[[[52 27 54  7]\n",
      "  [ 1 42 57 17]\n",
      "  [21 14 48 33]\n",
      "  [49 15 26 43]\n",
      "  [10 39  7 18]]\n",
      "\n",
      " [[20  3 20 29]\n",
      "  [ 9 56 11 37]\n",
      "  [20 35 50 56]\n",
      "  [12 49 33 18]\n",
      "  [24 17 32 49]]\n",
      "\n",
      " [[53 39 59 15]\n",
      "  [ 3  5 11 33]\n",
      "  [25 12 17  6]\n",
      "  [ 2 21 43 21]\n",
      "  [53 51 37 42]]]\n"
     ]
    }
   ],
   "source": [
    "#Uilizo el array del ejercicio anterior.\n",
    "array3D = np.random.randint(1,61,(3,4,5))\n",
    "print(array3D)\n",
    "print('________________________________________________________________________')\n",
    "#Uso la indexación de las dimensiones del array3D para cambiar el orden de los ejes como pide el enunciado.\n",
    "array_cambio_ejes = np.transpose(array3D, axes=(0,2,1))\n",
    "print(array_cambio_ejes)"
   ]
  },
  {
   "cell_type": "markdown",
   "metadata": {},
   "source": [
    "**3. Preguntas teóricas:**\n",
    "\n",
    "*- ¿Qué diferencia existe entre el reshape y el transpose?*\n",
    "Reshape cambia la forma y Transpose los ejes.\n",
    "\n",
    "*- ¿Y entre el transpose y el swapaxes?*\n",
    "Swapaxes intercambia dos ejes específicos entre sí y Transpose puede intercambiarlos todos."
   ]
  },
  {
   "cell_type": "markdown",
   "metadata": {},
   "source": [
    "## Funciones Aritméticas y Estadísticas:\n",
    "1. Crea un array de tres 3D con elementos entre el 0 y 1 de forma (2, 3, 5) cuyos valores solo tengan 1 decimal."
   ]
  },
  {
   "cell_type": "code",
   "execution_count": 5,
   "metadata": {},
   "outputs": [
    {
     "name": "stdout",
     "output_type": "stream",
     "text": [
      "[[[0.7 0.8 0.4 0.8 0.7]\n",
      "  [0.1 0.5 0.6 0.3 1. ]\n",
      "  [0.2 0.3 0.9 0.7 0.8]]\n",
      "\n",
      " [[0.7 0.5 0.6 0.2 0.5]\n",
      "  [0.6 0.2 0.1 0.8 0.7]\n",
      "  [0.1 0.7 0.9 1.  0.7]]]\n"
     ]
    }
   ],
   "source": [
    "#Creo un array tridimensional con números decimales.\n",
    "array3D = np.random.rand(2,3,5)\n",
    "#Redondeo los resultados para que solo tengan 1 decimal.\n",
    "array_redondeado = np.round(array3D, 1)\n",
    "print(array_redondeado)\n"
   ]
  },
  {
   "cell_type": "markdown",
   "metadata": {},
   "source": [
    "2. Crea un array vacío con la misma forma y dimensiones que el array creado anteriormente. Vamos a reemplazar los valores de la matriz vacía que nos acabamos de crear pero basándonos en los valores del primer array bajo las siguientes condiciones:\n",
    "\n",
    "Si el valor del array es igual que la media, se reemplaza por \"A\".\n",
    "\n",
    "Si el valor del array es mayor que la media, se reemplaza por \"B\".\n",
    "\n",
    "Si el valor del array es menor que la media, se reemplaza por \"C\".\n",
    "\n",
    "Si el valor es igual que el máximo, se reemplaza por \"D\".\n",
    "\n",
    "Si el valor es igual que el mínimo, se reemplaza por \"E\"."
   ]
  },
  {
   "cell_type": "code",
   "execution_count": 79,
   "metadata": {},
   "outputs": [
    {
     "name": "stdout",
     "output_type": "stream",
     "text": [
      "[[[0.13 0.01 0.39 0.73 0.54]\n",
      "  [0.75 0.19 0.23 0.16 0.96]\n",
      "  [0.34 0.45 0.01 0.42 0.85]]\n",
      "\n",
      " [[0.47 0.16 0.49 0.45 0.37]\n",
      "  [0.29 0.88 0.77 0.19 0.36]\n",
      "  [0.56 0.5  0.19 0.5  0.93]]]\n",
      "________________________________________________________________________\n",
      "El valor medio del array es de: 0.4423333333333333\n",
      "________________________________________________________________________\n",
      "[[['0.13' '0.01' '0.39' '0.73' '0.54']\n",
      "  ['0.75' '0.19' '0.23' '0.16' '0.96']\n",
      "  ['0.34' '0.45' '0.01' '0.42' '0.85']]\n",
      "\n",
      " [['0.47' '0.16' '0.49' '0.45' '0.37']\n",
      "  ['0.29' '0.88' '0.77' '0.19' '0.36']\n",
      "  ['0.56' '0.5' '0.19' '0.5' '0.93']]]\n",
      "________________________________________________________________________\n",
      "[[['0.13' '0.01' '0.39' 'B' 'B']\n",
      "  ['B' '0.19' '0.23' '0.16' 'B']\n",
      "  ['0.34' 'B' '0.01' '0.42' 'B']]\n",
      "\n",
      " [['B' '0.16' 'B' 'B' '0.37']\n",
      "  ['0.29' 'B' 'B' '0.19' '0.36']\n",
      "  ['B' 'B' '0.19' 'B' 'B']]]\n",
      "________________________________________________________________________\n",
      "[[['C' 'C' 'C' 'B' 'B']\n",
      "  ['B' 'C' 'C' 'C' 'B']\n",
      "  ['C' 'B' 'C' 'C' 'B']]\n",
      "\n",
      " [['B' 'C' 'B' 'B' 'C']\n",
      "  ['C' 'B' 'B' 'C' 'C']\n",
      "  ['B' 'B' 'C' 'B' 'B']]]\n",
      "________________________________________________________________________\n",
      "El valor máximo del array es: 0.96\n",
      "________________________________________________________________________\n",
      "[[['C' 'C' 'C' 'B' 'B']\n",
      "  ['B' 'C' 'C' 'C' 'D']\n",
      "  ['C' 'B' 'C' 'C' 'B']]\n",
      "\n",
      " [['B' 'C' 'B' 'B' 'C']\n",
      "  ['C' 'B' 'B' 'C' 'C']\n",
      "  ['B' 'B' 'C' 'B' 'B']]]\n",
      "________________________________________________________________________\n",
      "El valor mínimo del array es: 0.01\n",
      "________________________________________________________________________\n",
      "[[['C' 'E' 'C' 'B' 'B']\n",
      "  ['B' 'C' 'C' 'C' 'D']\n",
      "  ['C' 'B' 'E' 'C' 'B']]\n",
      "\n",
      " [['B' 'C' 'B' 'B' 'C']\n",
      "  ['C' 'B' 'B' 'C' 'C']\n",
      "  ['B' 'B' 'C' 'B' 'B']]]\n"
     ]
    }
   ],
   "source": [
    "#Creo el array vacío con las dimensiones del array anterior usando empty.\n",
    "array_vacio= np.empty((2,3,5))\n",
    "print(array_vacio)\n",
    "#Calculo la media del array\n",
    "print('________________________________________________________________________')\n",
    "media_array = array_vacio.mean()\n",
    "print(f'El valor medio del array es de: {media_array}')\n",
    "print('________________________________________________________________________')\n",
    "#Reemplazo los valores que coincidan con la media por la letra A, sino lo dejo por los valores del array vacío.\n",
    "array_reemplazo_A = np.where(array_vacio == media_array, \"A\", array_vacio)\n",
    "print(array_reemplazo_A)\n",
    "print('________________________________________________________________________')\n",
    "#Reemplazo los valores que sean mayores a la media por la letra B, sino lo dejo por los valores del array vacío.\n",
    "array_reemplazo_B = np.where(array_vacio > media_array, \"B\", array_reemplazo_A)\n",
    "print(array_reemplazo_B)\n",
    "print('________________________________________________________________________')\n",
    "#Reemplazo los valores que sean menores a la media por la letra C, sino lo dejo por los valores del array vacío.\n",
    "array_reemplazo_C = np.where(array_vacio < media_array, \"C\", array_reemplazo_B)\n",
    "print(array_reemplazo_C)\n",
    "print('________________________________________________________________________')\n",
    "#Calculo el valor máximo.\n",
    "max_array = np.max(array_vacio)\n",
    "print(f'El valor máximo del array es: {max_array}')\n",
    "print('________________________________________________________________________')\n",
    "#Reemplazo los valores que sean iguales al valor máximo por la letra D, sino lo dejo por los valores del array vacío.\n",
    "array_reemplazo_D = np.where(array_vacio == max_array, \"D\", array_reemplazo_C)\n",
    "print(array_reemplazo_D)\n",
    "print('________________________________________________________________________')\n",
    "#Calculo el valor mínimo.\n",
    "min_array = np.min(array_vacio)\n",
    "print(f'El valor mínimo del array es: {min_array}')\n",
    "print('________________________________________________________________________')\n",
    "#Reemplazo los valores que sean iguales al valor mínimo por la letra E, sino lo dejo por los valores del array vacío.\n",
    "array_reemplazo_E = np.where(array_vacio == min_array, \"E\", array_reemplazo_D)\n",
    "print(array_reemplazo_E)\n",
    "\n"
   ]
  }
 ],
 "metadata": {
  "kernelspec": {
   "display_name": "Python 3",
   "language": "python",
   "name": "python3"
  },
  "language_info": {
   "codemirror_mode": {
    "name": "ipython",
    "version": 3
   },
   "file_extension": ".py",
   "mimetype": "text/x-python",
   "name": "python",
   "nbconvert_exporter": "python",
   "pygments_lexer": "ipython3",
   "version": "3.11.5"
  }
 },
 "nbformat": 4,
 "nbformat_minor": 2
}
