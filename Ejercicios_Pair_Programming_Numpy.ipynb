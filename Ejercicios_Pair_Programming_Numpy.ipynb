{
 "cells": [
  {
   "cell_type": "markdown",
   "metadata": {},
   "source": [
    "# Ejercicios Numpy\n",
    "## Creación y Indexación:\n",
    "\n",
    "1. Crea un array 1D con 50 valores aleatorio del 10 al 99. Accede a los elementos en las posiciones múltiplos de 5."
   ]
  },
  {
   "cell_type": "code",
   "execution_count": 2,
   "metadata": {},
   "outputs": [],
   "source": [
    "#Importo librería numpy\n",
    "import numpy as np"
   ]
  },
  {
   "cell_type": "code",
   "execution_count": 3,
   "metadata": {},
   "outputs": [
    {
     "name": "stdout",
     "output_type": "stream",
     "text": [
      "[77 50 42 43 28 75 61 57 23 39 49 60 59 90 32 66 35 47 93 42 12 48 29 61\n",
      " 71 18 15 41 50 37 29 95 43 33 77 77 61 54 61 64 49 32 38 49 54 80 70 24\n",
      " 46 59]\n",
      "________________________________________________________________________\n",
      "Los elementos en posiciones múltiplos de 5 son:\n",
      " [77 75 49 66 12 18 29 77 49 80]\n"
     ]
    }
   ],
   "source": [
    "#Creo un array unidimensional.\n",
    "array1D = np.random.randint(10,100,50)\n",
    "print(array1D)\n",
    "print('________________________________________________________________________')\n",
    "#Uso un star, stop, step para encontrar los elementos en posiciones múltiples de 5.\n",
    "print(f'Los elementos en posiciones múltiplos de 5 son:\\n {array1D[::5]}')"
   ]
  },
  {
   "cell_type": "markdown",
   "metadata": {},
   "source": [
    "2. Crea un array 1D con 30 valores del 1 al 20 (ambos incluidos). Utiliza indexación para obtener los elementos en las posiciones impares."
   ]
  },
  {
   "cell_type": "code",
   "execution_count": 4,
   "metadata": {},
   "outputs": [
    {
     "name": "stdout",
     "output_type": "stream",
     "text": [
      "[14 19 19 15 12  2  1  7 16 18 10  3  1 13  2 10 20  3 13 13 15 20 13  8\n",
      "  3 13  5 13 20  6]\n",
      "________________________________________________________________________\n",
      "Los elementos en posiciones impares son:\n",
      " [19 15  2  7 18  3 13 10  3 13 20  8 13 13  6]\n"
     ]
    }
   ],
   "source": [
    "#Creo otro array unidimensional con valores aleatorios.\n",
    "array1D = np.random.randint(1, 21, 30)\n",
    "print(array1D)\n",
    "print('________________________________________________________________________')\n",
    "#Vuelvo a usar un star, stop, step para encontrar los elementos en posiciones impares.\n",
    "print(f'Los elementos en posiciones impares son:\\n {array1D[1::2]}')\n"
   ]
  },
  {
   "cell_type": "markdown",
   "metadata": {},
   "source": [
    "3. Crea un array 2D de forma (4, 6) con números aleatorios decimales (no deben estar comprendidos solo entre 0 y 1). Accede a la última fila de la matriz. Los decimales deben estar redondeados a 2 decimales."
   ]
  },
  {
   "cell_type": "code",
   "execution_count": 17,
   "metadata": {},
   "outputs": [
    {
     "name": "stdout",
     "output_type": "stream",
     "text": [
      "[[26.76946609 28.71311046 47.04304066 19.49728821 15.93156248 46.07533459]\n",
      " [21.37005466 36.48892306 28.1138213  38.93601729 12.67630313 22.98332255]\n",
      " [21.98534406 18.12074553 32.47110472 19.45360121 45.76827803 48.61302281]\n",
      " [38.17490849 10.0140036  40.3512855  10.69000338 36.71763789 13.52598111]]\n",
      "________________________________________________________________________\n",
      "Los elementos de la última fila son: [38.17 10.01 40.35 10.69 36.72 13.53]\n"
     ]
    }
   ],
   "source": [
    "#Creo otro array bidimensional con valores aleatorios decimales que sean superiores al 1, así que utilizo uniform.\n",
    "array2D = np.random.uniform(10,50, (4, 6))\n",
    "print(array2D)\n",
    "#Redondeo los resultados a dos decimales.\n",
    "array_2D_redondeado = np.round(array2D, 2)\n",
    "print('________________________________________________________________________')\n",
    "#Accedo a la última fila de la matriz.\n",
    "print(f'Los elementos de la última fila son: {array_2D_redondeado[-1]}')\n",
    "\n"
   ]
  },
  {
   "cell_type": "code",
   "execution_count": 18,
   "metadata": {},
   "outputs": [
    {
     "name": "stdout",
     "output_type": "stream",
     "text": [
      "[[1.79 1.15 1.13 1.33 1.79 1.83]\n",
      " [1.61 1.63 1.78 2.   1.42 1.95]\n",
      " [1.9  1.26 1.94 1.84 1.44 1.62]\n",
      " [1.13 1.47 1.85 1.65 1.6  1.43]]\n",
      "________________________________________________________________________\n",
      "Los elementos de la última fila son: [1.13 1.47 1.85 1.65 1.6  1.43]\n"
     ]
    }
   ],
   "source": [
    "#Otra forma de solucionarlo sería utilizando este código:\n",
    "array_2D = np.random.random_sample((4, 6)).round(2) + 1\n",
    "print(array_2D)\n",
    "print('________________________________________________________________________')\n",
    "#Accedo a la última fila de la matriz.\n",
    "print(f'Los elementos de la última fila son: {array_2D[-1]}')\n"
   ]
  },
  {
   "cell_type": "markdown",
   "metadata": {},
   "source": [
    "**BONUS**: Crea un array 3D de forma (2, 3, 5) y 30 elementos con números enteros entre 0 y 100 (ambos incluidos). Reemplaza los elementos en posiciones múltiplos de 3 por 0."
   ]
  },
  {
   "cell_type": "code",
   "execution_count": 7,
   "metadata": {},
   "outputs": [
    {
     "name": "stdout",
     "output_type": "stream",
     "text": [
      "[[[55 17 74 23 94]\n",
      "  [ 9 73 96 66 83]\n",
      "  [49 55  0  9 62]]\n",
      "\n",
      " [[81 70 78 83 78]\n",
      "  [41 75 38 87 63]\n",
      "  [ 7 77 30 90 87]]]\n",
      "________________________________________________________________________\n"
     ]
    }
   ],
   "source": [
    "array3D = np.random.randint(0,101,(2,3,5))\n",
    "print(array3D)\n",
    "print('________________________________________________________________________')\n"
   ]
  },
  {
   "cell_type": "markdown",
   "metadata": {},
   "source": [
    "## Reshape y Transpose:\n",
    "1. Crea un array 3D de forma (2, 3, 4) con valores aleatorios entre 1 y 100 (ambos inclusive). Utiliza reshape para convertirlo en un array 2D. Deberás pensar en la forma que es correcta para hacer este cambio."
   ]
  },
  {
   "cell_type": "code",
   "execution_count": 8,
   "metadata": {},
   "outputs": [
    {
     "name": "stdout",
     "output_type": "stream",
     "text": [
      "[[[34 26 18 49]\n",
      "  [80 66  6 62]\n",
      "  [35 71 97 13]]\n",
      "\n",
      " [[92 38 11 90]\n",
      "  [ 1 45 90 98]\n",
      "  [15 20 28 38]]]\n",
      "________________________________________________________________________\n",
      "[[34 26 18 49]\n",
      " [80 66  6 62]\n",
      " [35 71 97 13]\n",
      " [92 38 11 90]\n",
      " [ 1 45 90 98]\n",
      " [15 20 28 38]]\n"
     ]
    }
   ],
   "source": [
    "#Creo un array tridimensional con valores aleatorios.\n",
    "array3D = np.random.randint(1,101,(2,3,4))\n",
    "print(array3D)\n",
    "print('________________________________________________________________________')\n",
    "#Las columnas y filas tienen que seguir sumando 24. Sumo las filas de las dos matrices (o multiplico 2x3) y mantengo numero columnas para poder cambiar la forma.)\n",
    "array2D = np.reshape(array3D,(6,4))\n",
    "print(array2D)"
   ]
  },
  {
   "cell_type": "markdown",
   "metadata": {},
   "source": [
    "2. Crea un array 3D de forma (3, 4, 5) con valores enteros del 1 al 61 (sin incluir). Utiliza reshape para convertirlo en un array 2D.\n"
   ]
  },
  {
   "cell_type": "code",
   "execution_count": 9,
   "metadata": {},
   "outputs": [
    {
     "name": "stdout",
     "output_type": "stream",
     "text": [
      "[[[31 41 51  7 45]\n",
      "  [55  9 34  1  4]\n",
      "  [33  5 54  5 22]\n",
      "  [59 54 30 15 32]]\n",
      "\n",
      " [[40 12 58 19 28]\n",
      "  [35 57 28 13 21]\n",
      "  [17 20  3 22 21]\n",
      "  [37 32 38 15 56]]\n",
      "\n",
      " [[52 40 39 15 38]\n",
      "  [17 25  8 12 23]\n",
      "  [14 38 40 28 38]\n",
      "  [ 7 46 47 26  6]]]\n",
      "________________________________________________________________________\n",
      "[[31 41 51  7 45]\n",
      " [55  9 34  1  4]\n",
      " [33  5 54  5 22]\n",
      " [59 54 30 15 32]\n",
      " [40 12 58 19 28]\n",
      " [35 57 28 13 21]\n",
      " [17 20  3 22 21]\n",
      " [37 32 38 15 56]\n",
      " [52 40 39 15 38]\n",
      " [17 25  8 12 23]\n",
      " [14 38 40 28 38]\n",
      " [ 7 46 47 26  6]]\n"
     ]
    }
   ],
   "source": [
    "#Creo un array tridimensional con valores enteros aleatorios.\n",
    "array3D = np.random.randint(1,61,(3,4,5))\n",
    "print(array3D)\n",
    "print('________________________________________________________________________')\n",
    "#Las columnas y filas tienen que seguir sumando 60. Sumo las filas de las dos matrices (o multiplico 3x4) y mantengo numero columnas para cambiar la matriz de forma.)\n",
    "array2D= np.reshape(array3D, (12,5))\n",
    "print(array2D)"
   ]
  },
  {
   "cell_type": "markdown",
   "metadata": {},
   "source": [
    "\n",
    "3. Utiliza el array 3D del ejercicio 2 de reshape. Utiliza transpose para permutar los ejes y obtener un nuevo array con forma (5, 4, 3)."
   ]
  },
  {
   "cell_type": "code",
   "execution_count": 10,
   "metadata": {},
   "outputs": [
    {
     "name": "stdout",
     "output_type": "stream",
     "text": [
      "[[[51 57 43 27 55]\n",
      "  [39 40  2 10  7]\n",
      "  [31 13  3 43 52]\n",
      "  [48 37 42  1 14]]\n",
      "\n",
      " [[ 5 57  7 45 55]\n",
      "  [21 39 30  6 40]\n",
      "  [11 40 16 23 31]\n",
      "  [41 17 50 24 16]]\n",
      "\n",
      " [[ 8  4 48 35 40]\n",
      "  [59 25 43 59 55]\n",
      "  [47  8 50 36 23]\n",
      "  [ 9 29 18 28 24]]]\n",
      "________________________________________________________________________\n",
      "[[[51  5  8]\n",
      "  [39 21 59]\n",
      "  [31 11 47]\n",
      "  [48 41  9]]\n",
      "\n",
      " [[57 57  4]\n",
      "  [40 39 25]\n",
      "  [13 40  8]\n",
      "  [37 17 29]]\n",
      "\n",
      " [[43  7 48]\n",
      "  [ 2 30 43]\n",
      "  [ 3 16 50]\n",
      "  [42 50 18]]\n",
      "\n",
      " [[27 45 35]\n",
      "  [10  6 59]\n",
      "  [43 23 36]\n",
      "  [ 1 24 28]]\n",
      "\n",
      " [[55 55 40]\n",
      "  [ 7 40 55]\n",
      "  [52 31 23]\n",
      "  [14 16 24]]]\n"
     ]
    }
   ],
   "source": [
    "#Uilizo el array del ejercicio anterior.\n",
    "array3D = np.random.randint(1,61,(3,4,5))\n",
    "print(array3D)\n",
    "print('________________________________________________________________________')\n",
    "#Uso la indexación de las dimensiones del array3D para cambiar el orden de los ejes como pide el enunciado.\n",
    "array_cambio_ejes = np.transpose(array3D, axes=(2,1,0))\n",
    "print(array_cambio_ejes)"
   ]
  },
  {
   "cell_type": "markdown",
   "metadata": {},
   "source": [
    "4. Utiliza el array 3D del ejercicio 2 de reshape. Utiliza transpose para cambiar el orden de los ejes y obtener un nuevo array con forma (3, 5, 4)."
   ]
  },
  {
   "cell_type": "code",
   "execution_count": 11,
   "metadata": {},
   "outputs": [
    {
     "name": "stdout",
     "output_type": "stream",
     "text": [
      "[[[43 15  1  1 12]\n",
      "  [10 14 30 35  4]\n",
      "  [25 30 28 57 59]\n",
      "  [56 52 28 27 18]]\n",
      "\n",
      " [[ 7 13 42 13 31]\n",
      "  [58 32  9 39 10]\n",
      "  [20 18 15 31 27]\n",
      "  [19 47 33 34 24]]\n",
      "\n",
      " [[ 8 22  3  5 45]\n",
      "  [44 49 47 17 18]\n",
      "  [48 21 33  3 27]\n",
      "  [10 43 13 20 55]]]\n",
      "________________________________________________________________________\n",
      "[[[43 10 25 56]\n",
      "  [15 14 30 52]\n",
      "  [ 1 30 28 28]\n",
      "  [ 1 35 57 27]\n",
      "  [12  4 59 18]]\n",
      "\n",
      " [[ 7 58 20 19]\n",
      "  [13 32 18 47]\n",
      "  [42  9 15 33]\n",
      "  [13 39 31 34]\n",
      "  [31 10 27 24]]\n",
      "\n",
      " [[ 8 44 48 10]\n",
      "  [22 49 21 43]\n",
      "  [ 3 47 33 13]\n",
      "  [ 5 17  3 20]\n",
      "  [45 18 27 55]]]\n"
     ]
    }
   ],
   "source": [
    "#Uilizo el array del ejercicio anterior.\n",
    "array3D = np.random.randint(1,61,(3,4,5))\n",
    "print(array3D)\n",
    "print('________________________________________________________________________')\n",
    "#Uso la indexación de las dimensiones del array3D para cambiar el orden de los ejes como pide el enunciado.\n",
    "array_cambio_ejes = np.transpose(array3D, axes=(0,2,1))\n",
    "print(array_cambio_ejes)"
   ]
  },
  {
   "cell_type": "markdown",
   "metadata": {},
   "source": [
    "**3. Preguntas teóricas:**\n",
    "\n",
    "*- ¿Qué diferencia existe entre el reshape y el transpose?*\n",
    "Reshape cambia la forma y Transpose los ejes.\n",
    "\n",
    "*- ¿Y entre el transpose y el swapaxes?*\n",
    "Swapaxes intercambia dos ejes específicos entre sí y Transpose puede intercambiarlos todos."
   ]
  },
  {
   "cell_type": "markdown",
   "metadata": {},
   "source": [
    "## Funciones Aritméticas y Estadísticas:\n",
    "1. Crea un array de tres 3D con elementos entre el 0 y 1 de forma (2, 3, 5) cuyos valores solo tengan 1 decimal."
   ]
  },
  {
   "cell_type": "code",
   "execution_count": 12,
   "metadata": {},
   "outputs": [
    {
     "name": "stdout",
     "output_type": "stream",
     "text": [
      "[[[0.4 0.5 0.  0.8 0.7]\n",
      "  [0.  0.9 0.9 0.1 0.5]\n",
      "  [0.7 0.4 0.7 0.9 0.8]]\n",
      "\n",
      " [[0.9 0.2 0.7 0.4 0.1]\n",
      "  [0.  0.2 0.2 0.1 0.3]\n",
      "  [0.9 0.1 0.8 0.5 0.8]]]\n"
     ]
    }
   ],
   "source": [
    "#Creo un array tridimensional con números decimales.\n",
    "array3D = np.random.rand(2,3,5)\n",
    "#Redondeo los resultados para que solo tengan 1 decimal.\n",
    "array_redondeado = np.round(array3D, 1)\n",
    "print(array_redondeado)\n"
   ]
  },
  {
   "cell_type": "markdown",
   "metadata": {},
   "source": [
    "2. Crea un array vacío con la misma forma y dimensiones que el array creado anteriormente. Vamos a reemplazar los valores de la matriz vacía que nos acabamos de crear pero basándonos en los valores del primer array bajo las siguientes condiciones:\n",
    "\n",
    "Si el valor del array es igual que la media, se reemplaza por \"A\".\n",
    "\n",
    "Si el valor del array es mayor que la media, se reemplaza por \"B\".\n",
    "\n",
    "Si el valor del array es menor que la media, se reemplaza por \"C\".\n",
    "\n",
    "Si el valor es igual que el máximo, se reemplaza por \"D\".\n",
    "\n",
    "Si el valor es igual que el mínimo, se reemplaza por \"E\"."
   ]
  },
  {
   "cell_type": "code",
   "execution_count": 13,
   "metadata": {},
   "outputs": [
    {
     "name": "stdout",
     "output_type": "stream",
     "text": [
      "[[[0.4 0.5 0.  0.8 0.7]\n",
      "  [0.  0.9 0.9 0.1 0.5]\n",
      "  [0.7 0.4 0.7 0.9 0.8]]\n",
      "\n",
      " [[0.9 0.2 0.7 0.4 0.1]\n",
      "  [0.  0.2 0.2 0.1 0.3]\n",
      "  [0.9 0.1 0.8 0.5 0.8]]]\n",
      "________________________________________________________________________\n",
      "El valor medio del array es de: 0.48333333333333345\n",
      "________________________________________________________________________\n",
      "[[['0.4' '0.5' '0.0' '0.8' '0.7']\n",
      "  ['0.0' '0.9' '0.9' '0.1' '0.5']\n",
      "  ['0.7' '0.4' '0.7' '0.9' '0.8']]\n",
      "\n",
      " [['0.9' '0.2' '0.7' '0.4' '0.1']\n",
      "  ['0.0' '0.2' '0.2' '0.1' '0.3']\n",
      "  ['0.9' '0.1' '0.8' '0.5' '0.8']]]\n",
      "________________________________________________________________________\n",
      "[[['0.4' 'B' '0.0' 'B' 'B']\n",
      "  ['0.0' 'B' 'B' '0.1' 'B']\n",
      "  ['B' '0.4' 'B' 'B' 'B']]\n",
      "\n",
      " [['B' '0.2' 'B' '0.4' '0.1']\n",
      "  ['0.0' '0.2' '0.2' '0.1' '0.3']\n",
      "  ['B' '0.1' 'B' 'B' 'B']]]\n",
      "________________________________________________________________________\n",
      "[[['C' 'B' 'C' 'B' 'B']\n",
      "  ['C' 'B' 'B' 'C' 'B']\n",
      "  ['B' 'C' 'B' 'B' 'B']]\n",
      "\n",
      " [['B' 'C' 'B' 'C' 'C']\n",
      "  ['C' 'C' 'C' 'C' 'C']\n",
      "  ['B' 'C' 'B' 'B' 'B']]]\n",
      "________________________________________________________________________\n",
      "El valor máximo del array es: 0.9\n",
      "________________________________________________________________________\n",
      "[[['C' 'B' 'C' 'B' 'B']\n",
      "  ['C' 'D' 'D' 'C' 'B']\n",
      "  ['B' 'C' 'B' 'D' 'B']]\n",
      "\n",
      " [['D' 'C' 'B' 'C' 'C']\n",
      "  ['C' 'C' 'C' 'C' 'C']\n",
      "  ['D' 'C' 'B' 'B' 'B']]]\n",
      "________________________________________________________________________\n",
      "El valor mínimo del array es: 0.0\n",
      "________________________________________________________________________\n",
      "[[['C' 'B' 'E' 'B' 'B']\n",
      "  ['E' 'D' 'D' 'C' 'B']\n",
      "  ['B' 'C' 'B' 'D' 'B']]\n",
      "\n",
      " [['D' 'C' 'B' 'C' 'C']\n",
      "  ['E' 'C' 'C' 'C' 'C']\n",
      "  ['D' 'C' 'B' 'B' 'B']]]\n"
     ]
    }
   ],
   "source": [
    "#Creo el array vacío con las dimensiones del array anterior usando empty.\n",
    "array_vacio= np.empty((2,3,5))\n",
    "print(array_vacio)\n",
    "#Calculo la media del array\n",
    "print('________________________________________________________________________')\n",
    "media_array = array_vacio.mean()\n",
    "print(f'El valor medio del array es de: {media_array}')\n",
    "print('________________________________________________________________________')\n",
    "#Reemplazo los valores que coincidan con la media por la letra A, sino lo dejo por los valores del array vacío.\n",
    "array_reemplazo_A = np.where(array_vacio == media_array, \"A\", array_vacio)\n",
    "print(array_reemplazo_A)\n",
    "print('________________________________________________________________________')\n",
    "#Reemplazo los valores que sean mayores a la media por la letra B, sino lo dejo por los valores del array vacío.\n",
    "array_reemplazo_B = np.where(array_vacio > media_array, \"B\", array_reemplazo_A)\n",
    "print(array_reemplazo_B)\n",
    "print('________________________________________________________________________')\n",
    "#Reemplazo los valores que sean menores a la media por la letra C, sino lo dejo por los valores del array vacío.\n",
    "array_reemplazo_C = np.where(array_vacio < media_array, \"C\", array_reemplazo_B)\n",
    "print(array_reemplazo_C)\n",
    "print('________________________________________________________________________')\n",
    "#Calculo el valor máximo.\n",
    "max_array = np.max(array_vacio)\n",
    "print(f'El valor máximo del array es: {max_array}')\n",
    "print('________________________________________________________________________')\n",
    "#Reemplazo los valores que sean iguales al valor máximo por la letra D, sino lo dejo por los valores del array vacío.\n",
    "array_reemplazo_D = np.where(array_vacio == max_array, \"D\", array_reemplazo_C)\n",
    "print(array_reemplazo_D)\n",
    "print('________________________________________________________________________')\n",
    "#Calculo el valor mínimo.\n",
    "min_array = np.min(array_vacio)\n",
    "print(f'El valor mínimo del array es: {min_array}')\n",
    "print('________________________________________________________________________')\n",
    "#Reemplazo los valores que sean iguales al valor mínimo por la letra E, sino lo dejo por los valores del array vacío.\n",
    "array_reemplazo_E = np.where(array_vacio == min_array, \"E\", array_reemplazo_D)\n",
    "print(array_reemplazo_E)\n",
    "\n"
   ]
  }
 ],
 "metadata": {
  "kernelspec": {
   "display_name": "Python 3",
   "language": "python",
   "name": "python3"
  },
  "language_info": {
   "codemirror_mode": {
    "name": "ipython",
    "version": 3
   },
   "file_extension": ".py",
   "mimetype": "text/x-python",
   "name": "python",
   "nbconvert_exporter": "python",
   "pygments_lexer": "ipython3",
   "version": "3.11.5"
  }
 },
 "nbformat": 4,
 "nbformat_minor": 2
}
